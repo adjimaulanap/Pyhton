{
  "cells": [
    {
      "cell_type": "markdown",
      "metadata": {
        "id": "ISXbFNK1ndZ5"
      },
      "source": [
        "# Data Mining\n",
        "## Lab 01 - Pengenalan Python\n",
        "\n",
        "* tipe data pada python\n",
        "* conditional\n",
        "* perulangan\n",
        "* function\n",
        "\n",
        "Nama: Muhammad Adji Maulana Putera\n"
      ]
    },
    {
      "cell_type": "code",
      "execution_count": null,
      "metadata": {
        "colab": {
          "base_uri": "https://localhost:8080/"
        },
        "id": "LDbcq8kMnlDE",
        "outputId": "f0e6c33a-87be-4448-ae2a-7017bf155faf"
      },
      "outputs": [
        {
          "name": "stdout",
          "output_type": "stream",
          "text": [
            "Hello world\n"
          ]
        }
      ],
      "source": [
        "print (\"Hello world\")"
      ]
    },
    {
      "cell_type": "markdown",
      "metadata": {
        "id": "QH88fekRpNXC"
      },
      "source": [
        "## 1. Tipe dasar pada Python"
      ]
    },
    {
      "cell_type": "code",
      "execution_count": null,
      "metadata": {
        "colab": {
          "base_uri": "https://localhost:8080/"
        },
        "id": "CYhi0d-dpGCm",
        "outputId": "f0f06813-aed8-4171-a9e9-e0eb79d11b5d"
      },
      "outputs": [
        {
          "data": {
            "text/plain": [
              "int"
            ]
          },
          "execution_count": 5,
          "metadata": {},
          "output_type": "execute_result"
        }
      ],
      "source": [
        "#integer\n",
        "i = 4\n",
        "type (i)"
      ]
    },
    {
      "cell_type": "code",
      "execution_count": null,
      "metadata": {
        "id": "oHGPFWCgpZvK"
      },
      "outputs": [],
      "source": [
        "f = 2.3\n",
        "b = True\n",
        "s = \"Ini string\"\n"
      ]
    },
    {
      "cell_type": "code",
      "execution_count": null,
      "metadata": {
        "colab": {
          "base_uri": "https://localhost:8080/"
        },
        "id": "UgjEHOIDpx3z",
        "outputId": "017358dd-ee62-46b1-eb9d-5c4315a64b87"
      },
      "outputs": [
        {
          "data": {
            "text/plain": [
              "str"
            ]
          },
          "execution_count": 9,
          "metadata": {},
          "output_type": "execute_result"
        }
      ],
      "source": [
        "type (s)"
      ]
    },
    {
      "cell_type": "markdown",
      "metadata": {
        "id": "JPWygYssp9RD"
      },
      "source": [
        "## Tipe data advance"
      ]
    },
    {
      "cell_type": "code",
      "execution_count": null,
      "metadata": {
        "colab": {
          "base_uri": "https://localhost:8080/"
        },
        "id": "v9D2JfdCqABp",
        "outputId": "ba338563-4a57-4e3e-dd8a-b745ad012d0f"
      },
      "outputs": [
        {
          "name": "stdout",
          "output_type": "stream",
          "text": [
            "<class 'list'>\n",
            "[3, 5, 2]\n"
          ]
        }
      ],
      "source": [
        "#list\n",
        "l = [3,5,2]\n",
        "print (type(l))\n",
        "print (l)"
      ]
    },
    {
      "cell_type": "code",
      "execution_count": null,
      "metadata": {
        "colab": {
          "base_uri": "https://localhost:8080/"
        },
        "id": "dUk7v2m8qW2Q",
        "outputId": "03bea2a3-0a54-46e3-861b-63a7c81b7771"
      },
      "outputs": [
        {
          "name": "stdout",
          "output_type": "stream",
          "text": [
            "['saya', 3, 2.5]\n"
          ]
        }
      ],
      "source": [
        "list2 = [\"saya\",3, 2.5]\n",
        "print(list2)"
      ]
    },
    {
      "cell_type": "code",
      "execution_count": null,
      "metadata": {
        "colab": {
          "base_uri": "https://localhost:8080/"
        },
        "id": "ItIx6T93qqI5",
        "outputId": "af35a512-e60f-4ec3-dfe1-f3965b591cb3"
      },
      "outputs": [
        {
          "name": "stdout",
          "output_type": "stream",
          "text": [
            "{'fatma': 2, 'dwi': 4.5, 'irwan': 'tidak ada'}\n"
          ]
        }
      ],
      "source": [
        "#dictionary\n",
        "d = {'fatma':2, 'dwi':4.5, 'irwan':'tidak ada'}\n",
        "print (d)"
      ]
    },
    {
      "cell_type": "code",
      "execution_count": null,
      "metadata": {
        "colab": {
          "base_uri": "https://localhost:8080/"
        },
        "id": "X7xvrfwarACc",
        "outputId": "385512d5-dd1b-4509-9fd4-bbd2d782076d"
      },
      "outputs": [
        {
          "name": "stdout",
          "output_type": "stream",
          "text": [
            "2\n",
            "tidak ada\n"
          ]
        }
      ],
      "source": [
        "print (d['fatma'])\n",
        "print (d['irwan'])"
      ]
    },
    {
      "cell_type": "markdown",
      "metadata": {
        "id": "_FVh4oL7rX5E"
      },
      "source": [
        "## 3. Conditional"
      ]
    },
    {
      "cell_type": "code",
      "execution_count": null,
      "metadata": {
        "colab": {
          "base_uri": "https://localhost:8080/"
        },
        "id": "dlf-tpugrcz4",
        "outputId": "c3f42662-20a1-44af-82ce-ad719d22031c"
      },
      "outputs": [
        {
          "name": "stdout",
          "output_type": "stream",
          "text": [
            "i antara 1 dan 4\n"
          ]
        }
      ],
      "source": [
        "if (i < 1):\n",
        "   print (\"i kurang dari 1\")\n",
        "elif ((i>=1) and (i<=4)):\n",
        "   print (\"i antara 1 dan 4\")\n",
        "else:\n",
        "   print (\"i lebih dari 4\")"
      ]
    },
    {
      "cell_type": "markdown",
      "metadata": {
        "id": "exszwUHTr3eS"
      },
      "source": [
        "## 4. Perulangan"
      ]
    },
    {
      "cell_type": "code",
      "execution_count": null,
      "metadata": {
        "colab": {
          "base_uri": "https://localhost:8080/"
        },
        "id": "mco61b1Fr8D3",
        "outputId": "feb3cd41-174c-474a-e68f-c2f7c60c0023"
      },
      "outputs": [
        {
          "name": "stdout",
          "output_type": "stream",
          "text": [
            "[3, 5, 2]\n"
          ]
        }
      ],
      "source": [
        "print (l)"
      ]
    },
    {
      "cell_type": "code",
      "execution_count": null,
      "metadata": {
        "colab": {
          "base_uri": "https://localhost:8080/"
        },
        "id": "QkzCouIZsAJf",
        "outputId": "db45482d-8336-43f7-efb1-377759bcafb4"
      },
      "outputs": [
        {
          "name": "stdout",
          "output_type": "stream",
          "text": [
            "3\n",
            "5\n",
            "2\n"
          ]
        }
      ],
      "source": [
        "for elemen in l:\n",
        "  print (elemen)"
      ]
    },
    {
      "cell_type": "code",
      "execution_count": null,
      "metadata": {
        "colab": {
          "base_uri": "https://localhost:8080/"
        },
        "id": "rm09_bwLsMim",
        "outputId": "f6a5bdc8-cb22-45e2-a257-0a540cb4d4a5"
      },
      "outputs": [
        {
          "name": "stdout",
          "output_type": "stream",
          "text": [
            "4\n",
            "5\n",
            "6\n",
            "7\n",
            "8\n",
            "9\n"
          ]
        }
      ],
      "source": [
        "counter = 4\n",
        "while (counter < 10):\n",
        "  print (counter)\n",
        "  counter += 1"
      ]
    },
    {
      "cell_type": "markdown",
      "metadata": {
        "id": "Is66s8J4tG0T"
      },
      "source": [
        "## 5. Membuat function"
      ]
    },
    {
      "cell_type": "code",
      "execution_count": null,
      "metadata": {
        "colab": {
          "base_uri": "https://localhost:8080/"
        },
        "id": "qELDlYZitK8r",
        "outputId": "4d383884-acf7-41ed-f95b-cdfe935dcc97"
      },
      "outputs": [
        {
          "name": "stdout",
          "output_type": "stream",
          "text": [
            "8\n"
          ]
        }
      ],
      "source": [
        "def kaliDua(x):\n",
        "  return x*2\n",
        "\n",
        "i = 4\n",
        "print(kaliDua(i))"
      ]
    },
    {
      "cell_type": "code",
      "execution_count": null,
      "metadata": {
        "colab": {
          "base_uri": "https://localhost:8080/"
        },
        "id": "-WXENY-ftZ1n",
        "outputId": "5d2168d5-9c5f-4192-e44e-2ec9c6fa7874"
      },
      "outputs": [
        {
          "name": "stdout",
          "output_type": "stream",
          "text": [
            "78.5\n"
          ]
        }
      ],
      "source": [
        "#fungsi untuk menghitung luas lingkaran\n",
        "def luasLingkaran(r):\n",
        "  return 3.14*r*r\n",
        "\n",
        "print (luasLingkaran(5))"
      ]
    },
    {
      "cell_type": "code",
      "execution_count": null,
      "metadata": {
        "id": "VUu5JA0Zuohk"
      },
      "outputs": [],
      "source": []
    },
    {
      "cell_type": "markdown",
      "metadata": {
        "id": "Lf5ur5NIupPb"
      },
      "source": [
        "## Latihan\n",
        "\n",
        "Bagian I. Cari/buatlah contoh\n",
        "\n",
        "a) Macam-macam operasi string pada python (minimal 10)\n",
        "\n",
        "b) Macam-macam operasi list pada python (minimal 10)\n",
        "\n",
        "c) Macam-macam operasi dictionary pada python\n",
        "\n",
        "Bagian II. Implementasikan fungsi similaritas berikut ini (variabel input adalah 2 buah vektor berbentuk list):\n",
        "\n",
        "a) Euclidean Distance\n",
        "\n",
        "b) Manhattan Distance\n",
        "\n",
        "c) Jaccard Coefficient\n",
        "\n",
        "d) Cosine Similarity\n",
        "\n",
        "Berilah catatan cara penggunaan fungsi serta contoh penggunaan tiap fungsi.\n"
      ]
    },
    {
      "cell_type": "code",
      "execution_count": null,
      "metadata": {
        "id": "IikUoWsPu6A2"
      },
      "outputs": [],
      "source": []
    }
  ],
  "metadata": {
    "colab": {
      "provenance": []
    },
    "kernelspec": {
      "display_name": "Python 3",
      "name": "python3"
    },
    "language_info": {
      "name": "python"
    }
  },
  "nbformat": 4,
  "nbformat_minor": 0
}
